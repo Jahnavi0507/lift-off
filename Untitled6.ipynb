{
  "nbformat": 4,
  "nbformat_minor": 0,
  "metadata": {
    "colab": {
      "provenance": [],
      "authorship_tag": "ABX9TyNpG0Pgy5zcQLY1we8FtBkT",
      "include_colab_link": true
    },
    "kernelspec": {
      "name": "python3",
      "display_name": "Python 3"
    },
    "language_info": {
      "name": "python"
    }
  },
  "cells": [
    {
      "cell_type": "markdown",
      "metadata": {
        "id": "view-in-github",
        "colab_type": "text"
      },
      "source": [
        "<a href=\"https://colab.research.google.com/github/Jahnavi0507/lift-off/blob/main/Untitled6.ipynb\" target=\"_parent\"><img src=\"https://colab.research.google.com/assets/colab-badge.svg\" alt=\"Open In Colab\"/></a>"
      ]
    },
    {
      "cell_type": "code",
      "execution_count": null,
      "metadata": {
        "id": "Z7VagDDF4luK"
      },
      "outputs": [],
      "source": [
        "import random\n",
        "\n",
        "def get_computer_choice():\n",
        "    choices = ['rock', 'paper', 'scissors']\n",
        "    return random.choice(choices)\n",
        "\n",
        "def get_user_choice():\n",
        "    user_input = input(\"Enter rock, paper, or scissors: \").lower()\n",
        "    while user_input not in ['rock', 'paper', 'scissors']:\n",
        "        print(\"Invalid choice. Please try again.\")\n",
        "        user_input = input(\"Enter rock, paper, or scissors: \").lower()\n",
        "    return user_input\n",
        "\n",
        "def determine_winner(user_choice, computer_choice():\n",
        "    if user_choice == computer_choice:\n",
        "        return \"It's a tie!\"\n",
        "    elif (user_choice == 'rock' and computer_choice == 'scissors') or \\\n",
        "         (user_choice == 'paper' and computer_choice == 'rock') or \\\n",
        "         (user_choice == 'scissors' and computer_choice == 'paper'):\n",
        "        return \"You win!\"\n",
        "    else:\n",
        "        return \"You lose!\"\n",
        "\n",
        "def play_game():\n",
        "    user_choice = get_user_choice()\n",
        "    computer_choice = get_computer_choice()\n",
        "\n",
        "    print(f\"\\nYou chose: {user_choice}\")\n",
        "    print(f\"Computer chose: {computer_choice}\")\n",
        "\n",
        "    result = determine_winner(user_choice, computer_choice)\n",
        "    print(result)\n",
        "\n",
        "if __name__ == \"__main__\":\n",
        "    play_game()"
      ]
    }
  ]
}